{
  "nbformat": 4,
  "nbformat_minor": 0,
  "metadata": {
    "colab": {
      "name": "college_project.ipynb",
      "provenance": []
    },
    "kernelspec": {
      "name": "python3",
      "display_name": "Python 3"
    },
    "language_info": {
      "name": "python"
    }
  },
  "cells": [
    {
      "cell_type": "code",
      "metadata": {
        "colab": {
          "base_uri": "https://localhost:8080/"
        },
        "id": "ReHpB8MPGzDo",
        "outputId": "aaf98d77-074f-4aaa-ed79-613f9e0c961f"
      },
      "source": [
        "from google.colab import drive\n",
        "drive.mount('/content/gdrive')"
      ],
      "execution_count": 122,
      "outputs": [
        {
          "output_type": "stream",
          "text": [
            "Drive already mounted at /content/gdrive; to attempt to forcibly remount, call drive.mount(\"/content/gdrive\", force_remount=True).\n"
          ],
          "name": "stdout"
        }
      ]
    },
    {
      "cell_type": "markdown",
      "metadata": {
        "id": "t7zEUteUcwym"
      },
      "source": [
        "## Importing library"
      ]
    },
    {
      "cell_type": "code",
      "metadata": {
        "id": "SRmuViCkHGYJ"
      },
      "source": [
        "import pandas as pd\n",
        "import numpy as np\n",
        "from sklearn.feature_extraction.text import CountVectorizer\n",
        "from sklearn.metrics.pairwise import cosine_similarity"
      ],
      "execution_count": 123,
      "outputs": []
    },
    {
      "cell_type": "markdown",
      "metadata": {
        "id": "Pi3u_z9nc1aF"
      },
      "source": [
        "## Loading Datasets from gdrive"
      ]
    },
    {
      "cell_type": "code",
      "metadata": {
        "id": "zuK-gwpmHaaE"
      },
      "source": [
        "df = pd.read_csv(\"/content/gdrive/MyDrive/college_project/data_p1.csv\")"
      ],
      "execution_count": 124,
      "outputs": []
    },
    {
      "cell_type": "code",
      "metadata": {
        "colab": {
          "base_uri": "https://localhost:8080/",
          "height": 203
        },
        "id": "J7-oEE0mHm5Y",
        "outputId": "8b1e239e-1551-46d3-fdf2-e734d5782147"
      },
      "source": [
        "df.head()"
      ],
      "execution_count": 125,
      "outputs": [
        {
          "output_type": "execute_result",
          "data": {
            "text/html": [
              "<div>\n",
              "<style scoped>\n",
              "    .dataframe tbody tr th:only-of-type {\n",
              "        vertical-align: middle;\n",
              "    }\n",
              "\n",
              "    .dataframe tbody tr th {\n",
              "        vertical-align: top;\n",
              "    }\n",
              "\n",
              "    .dataframe thead th {\n",
              "        text-align: right;\n",
              "    }\n",
              "</style>\n",
              "<table border=\"1\" class=\"dataframe\">\n",
              "  <thead>\n",
              "    <tr style=\"text-align: right;\">\n",
              "      <th></th>\n",
              "      <th>director_name</th>\n",
              "      <th>actor_1_name</th>\n",
              "      <th>actor_2_name</th>\n",
              "      <th>actor_3_name</th>\n",
              "      <th>genres</th>\n",
              "      <th>movie_title</th>\n",
              "    </tr>\n",
              "  </thead>\n",
              "  <tbody>\n",
              "    <tr>\n",
              "      <th>0</th>\n",
              "      <td>James Cameron</td>\n",
              "      <td>CCH Pounder</td>\n",
              "      <td>Joel David Moore</td>\n",
              "      <td>Wes Studi</td>\n",
              "      <td>Action Adventure Fantasy science friction</td>\n",
              "      <td>Avatar</td>\n",
              "    </tr>\n",
              "    <tr>\n",
              "      <th>1</th>\n",
              "      <td>Gore Verbinski</td>\n",
              "      <td>Johnny Depp</td>\n",
              "      <td>Orlando Bloom</td>\n",
              "      <td>Jack Davenport</td>\n",
              "      <td>Action Adventure Fantasy</td>\n",
              "      <td>Pirates of the Caribbean: At World's End</td>\n",
              "    </tr>\n",
              "    <tr>\n",
              "      <th>2</th>\n",
              "      <td>Sam Mendes</td>\n",
              "      <td>Christoph Waltz</td>\n",
              "      <td>Rory Kinnear</td>\n",
              "      <td>Stephanie Sigman</td>\n",
              "      <td>Action Adventure Thriller</td>\n",
              "      <td>Spectre</td>\n",
              "    </tr>\n",
              "    <tr>\n",
              "      <th>3</th>\n",
              "      <td>Christopher Nolan</td>\n",
              "      <td>Tom Hardy</td>\n",
              "      <td>Christian Bale</td>\n",
              "      <td>Joseph Gordon Levitt</td>\n",
              "      <td>Action Thriller</td>\n",
              "      <td>The Dark Knight Rises</td>\n",
              "    </tr>\n",
              "    <tr>\n",
              "      <th>4</th>\n",
              "      <td>Doug Walker</td>\n",
              "      <td>Doug Walker</td>\n",
              "      <td>Rob Walker</td>\n",
              "      <td>NaN</td>\n",
              "      <td>Documentary</td>\n",
              "      <td>Star Wars: Episode VII - The Force Awakens    ...</td>\n",
              "    </tr>\n",
              "  </tbody>\n",
              "</table>\n",
              "</div>"
            ],
            "text/plain": [
              "       director_name  ...                                        movie_title\n",
              "0      James Cameron  ...                                            Avatar \n",
              "1     Gore Verbinski  ...          Pirates of the Caribbean: At World's End \n",
              "2         Sam Mendes  ...                                           Spectre \n",
              "3  Christopher Nolan  ...                             The Dark Knight Rises \n",
              "4        Doug Walker  ...  Star Wars: Episode VII - The Force Awakens    ...\n",
              "\n",
              "[5 rows x 6 columns]"
            ]
          },
          "metadata": {
            "tags": []
          },
          "execution_count": 125
        }
      ]
    },
    {
      "cell_type": "code",
      "metadata": {
        "colab": {
          "base_uri": "https://localhost:8080/"
        },
        "id": "Ce_UWthCHo0Y",
        "outputId": "256bbedc-b399-4138-bfed-fc4ce5389c0f"
      },
      "source": [
        "df.info()"
      ],
      "execution_count": 126,
      "outputs": [
        {
          "output_type": "stream",
          "text": [
            "<class 'pandas.core.frame.DataFrame'>\n",
            "RangeIndex: 5043 entries, 0 to 5042\n",
            "Data columns (total 6 columns):\n",
            " #   Column         Non-Null Count  Dtype \n",
            "---  ------         --------------  ----- \n",
            " 0   director_name  4939 non-null   object\n",
            " 1   actor_1_name   5036 non-null   object\n",
            " 2   actor_2_name   5030 non-null   object\n",
            " 3   actor_3_name   5020 non-null   object\n",
            " 4   genres         5043 non-null   object\n",
            " 5   movie_title    5043 non-null   object\n",
            "dtypes: object(6)\n",
            "memory usage: 236.5+ KB\n"
          ],
          "name": "stdout"
        }
      ]
    },
    {
      "cell_type": "markdown",
      "metadata": {
        "id": "DgXtn6H-c6e9"
      },
      "source": [
        "## Checking NAN value"
      ]
    },
    {
      "cell_type": "code",
      "metadata": {
        "colab": {
          "base_uri": "https://localhost:8080/"
        },
        "id": "7GffCRXgMbnq",
        "outputId": "3a032ec8-83a5-49f4-f2bd-2abce493b869"
      },
      "source": [
        "df.isna().any()"
      ],
      "execution_count": 127,
      "outputs": [
        {
          "output_type": "execute_result",
          "data": {
            "text/plain": [
              "director_name     True\n",
              "actor_1_name      True\n",
              "actor_2_name      True\n",
              "actor_3_name      True\n",
              "genres           False\n",
              "movie_title      False\n",
              "dtype: bool"
            ]
          },
          "metadata": {
            "tags": []
          },
          "execution_count": 127
        }
      ]
    },
    {
      "cell_type": "markdown",
      "metadata": {
        "id": "2tczDHBIc-Us"
      },
      "source": [
        "## Drop NAN value"
      ]
    },
    {
      "cell_type": "code",
      "metadata": {
        "id": "EQPpW96VNCsN"
      },
      "source": [
        "df = df.dropna()"
      ],
      "execution_count": 128,
      "outputs": []
    },
    {
      "cell_type": "code",
      "metadata": {
        "colab": {
          "base_uri": "https://localhost:8080/"
        },
        "id": "xR-owk8bNFGA",
        "outputId": "435e8071-7c3d-4174-b2d4-e3c472e0a8be"
      },
      "source": [
        "df.isna().any()"
      ],
      "execution_count": 129,
      "outputs": [
        {
          "output_type": "execute_result",
          "data": {
            "text/plain": [
              "director_name    False\n",
              "actor_1_name     False\n",
              "actor_2_name     False\n",
              "actor_3_name     False\n",
              "genres           False\n",
              "movie_title      False\n",
              "dtype: bool"
            ]
          },
          "metadata": {
            "tags": []
          },
          "execution_count": 129
        }
      ]
    },
    {
      "cell_type": "code",
      "metadata": {
        "colab": {
          "base_uri": "https://localhost:8080/"
        },
        "id": "dHDP-DexNH4q",
        "outputId": "c1a1f98f-b376-4b36-fa10-c0c31c7023a8"
      },
      "source": [
        "df.shape"
      ],
      "execution_count": 130,
      "outputs": [
        {
          "output_type": "execute_result",
          "data": {
            "text/plain": [
              "(4919, 6)"
            ]
          },
          "metadata": {
            "tags": []
          },
          "execution_count": 130
        }
      ]
    },
    {
      "cell_type": "code",
      "metadata": {
        "id": "vrb2orW9PtKf"
      },
      "source": [
        "index = []\n",
        "for i in range(0 , df.shape[0]):\n",
        "  index.append(i)"
      ],
      "execution_count": 131,
      "outputs": []
    },
    {
      "cell_type": "code",
      "metadata": {
        "id": "1kwHGizPP4kZ"
      },
      "source": [
        "df[\"index\"] = index"
      ],
      "execution_count": 132,
      "outputs": []
    },
    {
      "cell_type": "code",
      "metadata": {
        "colab": {
          "base_uri": "https://localhost:8080/",
          "height": 203
        },
        "id": "gBcUcFTDQP2D",
        "outputId": "2ea471c3-450a-4901-c6fe-e7367760eeb6"
      },
      "source": [
        "df.head()"
      ],
      "execution_count": 133,
      "outputs": [
        {
          "output_type": "execute_result",
          "data": {
            "text/html": [
              "<div>\n",
              "<style scoped>\n",
              "    .dataframe tbody tr th:only-of-type {\n",
              "        vertical-align: middle;\n",
              "    }\n",
              "\n",
              "    .dataframe tbody tr th {\n",
              "        vertical-align: top;\n",
              "    }\n",
              "\n",
              "    .dataframe thead th {\n",
              "        text-align: right;\n",
              "    }\n",
              "</style>\n",
              "<table border=\"1\" class=\"dataframe\">\n",
              "  <thead>\n",
              "    <tr style=\"text-align: right;\">\n",
              "      <th></th>\n",
              "      <th>director_name</th>\n",
              "      <th>actor_1_name</th>\n",
              "      <th>actor_2_name</th>\n",
              "      <th>actor_3_name</th>\n",
              "      <th>genres</th>\n",
              "      <th>movie_title</th>\n",
              "      <th>index</th>\n",
              "    </tr>\n",
              "  </thead>\n",
              "  <tbody>\n",
              "    <tr>\n",
              "      <th>0</th>\n",
              "      <td>James Cameron</td>\n",
              "      <td>CCH Pounder</td>\n",
              "      <td>Joel David Moore</td>\n",
              "      <td>Wes Studi</td>\n",
              "      <td>Action Adventure Fantasy science friction</td>\n",
              "      <td>Avatar</td>\n",
              "      <td>0</td>\n",
              "    </tr>\n",
              "    <tr>\n",
              "      <th>1</th>\n",
              "      <td>Gore Verbinski</td>\n",
              "      <td>Johnny Depp</td>\n",
              "      <td>Orlando Bloom</td>\n",
              "      <td>Jack Davenport</td>\n",
              "      <td>Action Adventure Fantasy</td>\n",
              "      <td>Pirates of the Caribbean: At World's End</td>\n",
              "      <td>1</td>\n",
              "    </tr>\n",
              "    <tr>\n",
              "      <th>2</th>\n",
              "      <td>Sam Mendes</td>\n",
              "      <td>Christoph Waltz</td>\n",
              "      <td>Rory Kinnear</td>\n",
              "      <td>Stephanie Sigman</td>\n",
              "      <td>Action Adventure Thriller</td>\n",
              "      <td>Spectre</td>\n",
              "      <td>2</td>\n",
              "    </tr>\n",
              "    <tr>\n",
              "      <th>3</th>\n",
              "      <td>Christopher Nolan</td>\n",
              "      <td>Tom Hardy</td>\n",
              "      <td>Christian Bale</td>\n",
              "      <td>Joseph Gordon Levitt</td>\n",
              "      <td>Action Thriller</td>\n",
              "      <td>The Dark Knight Rises</td>\n",
              "      <td>3</td>\n",
              "    </tr>\n",
              "    <tr>\n",
              "      <th>5</th>\n",
              "      <td>Andrew Stanton</td>\n",
              "      <td>Daryl Sabara</td>\n",
              "      <td>Samantha Morton</td>\n",
              "      <td>Polly Walker</td>\n",
              "      <td>Action Adventure science friction</td>\n",
              "      <td>John Carter</td>\n",
              "      <td>4</td>\n",
              "    </tr>\n",
              "  </tbody>\n",
              "</table>\n",
              "</div>"
            ],
            "text/plain": [
              "       director_name  ... index\n",
              "0      James Cameron  ...     0\n",
              "1     Gore Verbinski  ...     1\n",
              "2         Sam Mendes  ...     2\n",
              "3  Christopher Nolan  ...     3\n",
              "5     Andrew Stanton  ...     4\n",
              "\n",
              "[5 rows x 7 columns]"
            ]
          },
          "metadata": {
            "tags": []
          },
          "execution_count": 133
        }
      ]
    },
    {
      "cell_type": "code",
      "metadata": {
        "id": "JVvM10TWJTGr"
      },
      "source": [
        "df['director_name'] = df['director_name'].str.replace('\\d+', '')\n",
        "df['actor_1_name'] = df['actor_1_name'].str.replace('\\d+', '')\n",
        "df['actor_2_name'] = df['actor_2_name'].str.replace('\\d+', '')\n",
        "df['actor_3_name'] = df['actor_3_name'].str.replace('\\d+', '')\n",
        "df['genres'] = df['genres'].str.replace('\\d+', '')\n",
        "df['movie_title'] = df['movie_title'].str.replace('\\d+', '')"
      ],
      "execution_count": 134,
      "outputs": []
    },
    {
      "cell_type": "code",
      "metadata": {
        "id": "5ATECcEEHvrQ"
      },
      "source": [
        "def combined_features(row):\n",
        "    return row['director_name']+\" \"+row['actor_1_name']+\" \"+row['actor_2_name']+\" \"+row['actor_3_name']+\" \"+row[\"genres\"]+\" \"+row[\"movie_title\"]\n",
        "df[\"combined_features\"] = df.apply(combined_features, axis =1)"
      ],
      "execution_count": 135,
      "outputs": []
    },
    {
      "cell_type": "code",
      "metadata": {
        "colab": {
          "base_uri": "https://localhost:8080/",
          "height": 287
        },
        "id": "wr_DWYwlImA9",
        "outputId": "9a6e548d-94bc-40e8-b1b2-c9633021c1cb"
      },
      "source": [
        "df.head()"
      ],
      "execution_count": 136,
      "outputs": [
        {
          "output_type": "execute_result",
          "data": {
            "text/html": [
              "<div>\n",
              "<style scoped>\n",
              "    .dataframe tbody tr th:only-of-type {\n",
              "        vertical-align: middle;\n",
              "    }\n",
              "\n",
              "    .dataframe tbody tr th {\n",
              "        vertical-align: top;\n",
              "    }\n",
              "\n",
              "    .dataframe thead th {\n",
              "        text-align: right;\n",
              "    }\n",
              "</style>\n",
              "<table border=\"1\" class=\"dataframe\">\n",
              "  <thead>\n",
              "    <tr style=\"text-align: right;\">\n",
              "      <th></th>\n",
              "      <th>director_name</th>\n",
              "      <th>actor_1_name</th>\n",
              "      <th>actor_2_name</th>\n",
              "      <th>actor_3_name</th>\n",
              "      <th>genres</th>\n",
              "      <th>movie_title</th>\n",
              "      <th>index</th>\n",
              "      <th>combined_features</th>\n",
              "    </tr>\n",
              "  </thead>\n",
              "  <tbody>\n",
              "    <tr>\n",
              "      <th>0</th>\n",
              "      <td>James Cameron</td>\n",
              "      <td>CCH Pounder</td>\n",
              "      <td>Joel David Moore</td>\n",
              "      <td>Wes Studi</td>\n",
              "      <td>Action Adventure Fantasy science friction</td>\n",
              "      <td>Avatar</td>\n",
              "      <td>0</td>\n",
              "      <td>James Cameron CCH Pounder Joel David Moore Wes...</td>\n",
              "    </tr>\n",
              "    <tr>\n",
              "      <th>1</th>\n",
              "      <td>Gore Verbinski</td>\n",
              "      <td>Johnny Depp</td>\n",
              "      <td>Orlando Bloom</td>\n",
              "      <td>Jack Davenport</td>\n",
              "      <td>Action Adventure Fantasy</td>\n",
              "      <td>Pirates of the Caribbean: At World's End</td>\n",
              "      <td>1</td>\n",
              "      <td>Gore Verbinski Johnny Depp Orlando Bloom Jack ...</td>\n",
              "    </tr>\n",
              "    <tr>\n",
              "      <th>2</th>\n",
              "      <td>Sam Mendes</td>\n",
              "      <td>Christoph Waltz</td>\n",
              "      <td>Rory Kinnear</td>\n",
              "      <td>Stephanie Sigman</td>\n",
              "      <td>Action Adventure Thriller</td>\n",
              "      <td>Spectre</td>\n",
              "      <td>2</td>\n",
              "      <td>Sam Mendes Christoph Waltz Rory Kinnear Stepha...</td>\n",
              "    </tr>\n",
              "    <tr>\n",
              "      <th>3</th>\n",
              "      <td>Christopher Nolan</td>\n",
              "      <td>Tom Hardy</td>\n",
              "      <td>Christian Bale</td>\n",
              "      <td>Joseph Gordon Levitt</td>\n",
              "      <td>Action Thriller</td>\n",
              "      <td>The Dark Knight Rises</td>\n",
              "      <td>3</td>\n",
              "      <td>Christopher Nolan Tom Hardy Christian Bale Jos...</td>\n",
              "    </tr>\n",
              "    <tr>\n",
              "      <th>5</th>\n",
              "      <td>Andrew Stanton</td>\n",
              "      <td>Daryl Sabara</td>\n",
              "      <td>Samantha Morton</td>\n",
              "      <td>Polly Walker</td>\n",
              "      <td>Action Adventure science friction</td>\n",
              "      <td>John Carter</td>\n",
              "      <td>4</td>\n",
              "      <td>Andrew Stanton Daryl Sabara Samantha Morton Po...</td>\n",
              "    </tr>\n",
              "  </tbody>\n",
              "</table>\n",
              "</div>"
            ],
            "text/plain": [
              "       director_name  ...                                  combined_features\n",
              "0      James Cameron  ...  James Cameron CCH Pounder Joel David Moore Wes...\n",
              "1     Gore Verbinski  ...  Gore Verbinski Johnny Depp Orlando Bloom Jack ...\n",
              "2         Sam Mendes  ...  Sam Mendes Christoph Waltz Rory Kinnear Stepha...\n",
              "3  Christopher Nolan  ...  Christopher Nolan Tom Hardy Christian Bale Jos...\n",
              "5     Andrew Stanton  ...  Andrew Stanton Daryl Sabara Samantha Morton Po...\n",
              "\n",
              "[5 rows x 8 columns]"
            ]
          },
          "metadata": {
            "tags": []
          },
          "execution_count": 136
        }
      ]
    },
    {
      "cell_type": "markdown",
      "metadata": {
        "id": "DQPS8cSIdEKf"
      },
      "source": [
        "## Apply countVectorizer for canverting text into vector"
      ]
    },
    {
      "cell_type": "code",
      "metadata": {
        "colab": {
          "base_uri": "https://localhost:8080/"
        },
        "id": "PyZ2B89_NaW2",
        "outputId": "a9234ae4-4d73-407d-94a5-4316dc015154"
      },
      "source": [
        "cv = CountVectorizer()\n",
        "count_matrix = cv.fit_transform(df[\"combined_features\"])\n",
        "print(\"Count Matrix:\", count_matrix.toarray())"
      ],
      "execution_count": 137,
      "outputs": [
        {
          "output_type": "stream",
          "text": [
            "Count Matrix: [[0 0 0 ... 0 0 0]\n",
            " [0 0 0 ... 0 0 0]\n",
            " [0 0 0 ... 0 0 0]\n",
            " ...\n",
            " [0 0 0 ... 0 0 0]\n",
            " [0 0 0 ... 0 0 0]\n",
            " [0 0 0 ... 0 0 0]]\n"
          ],
          "name": "stdout"
        }
      ]
    },
    {
      "cell_type": "markdown",
      "metadata": {
        "id": "BOhfCgmOdMyL"
      },
      "source": [
        "## Find cosine Similarity"
      ]
    },
    {
      "cell_type": "code",
      "metadata": {
        "id": "fbSSWzM3Nm7u"
      },
      "source": [
        "cosine_sim = cosine_similarity(count_matrix)"
      ],
      "execution_count": 138,
      "outputs": []
    },
    {
      "cell_type": "code",
      "metadata": {
        "colab": {
          "base_uri": "https://localhost:8080/",
          "height": 287
        },
        "id": "5-4COkNabCCJ",
        "outputId": "1b72720b-03a7-4657-f4b3-e9c3594502a5"
      },
      "source": [
        "df.head()"
      ],
      "execution_count": 139,
      "outputs": [
        {
          "output_type": "execute_result",
          "data": {
            "text/html": [
              "<div>\n",
              "<style scoped>\n",
              "    .dataframe tbody tr th:only-of-type {\n",
              "        vertical-align: middle;\n",
              "    }\n",
              "\n",
              "    .dataframe tbody tr th {\n",
              "        vertical-align: top;\n",
              "    }\n",
              "\n",
              "    .dataframe thead th {\n",
              "        text-align: right;\n",
              "    }\n",
              "</style>\n",
              "<table border=\"1\" class=\"dataframe\">\n",
              "  <thead>\n",
              "    <tr style=\"text-align: right;\">\n",
              "      <th></th>\n",
              "      <th>director_name</th>\n",
              "      <th>actor_1_name</th>\n",
              "      <th>actor_2_name</th>\n",
              "      <th>actor_3_name</th>\n",
              "      <th>genres</th>\n",
              "      <th>movie_title</th>\n",
              "      <th>index</th>\n",
              "      <th>combined_features</th>\n",
              "    </tr>\n",
              "  </thead>\n",
              "  <tbody>\n",
              "    <tr>\n",
              "      <th>0</th>\n",
              "      <td>James Cameron</td>\n",
              "      <td>CCH Pounder</td>\n",
              "      <td>Joel David Moore</td>\n",
              "      <td>Wes Studi</td>\n",
              "      <td>Action Adventure Fantasy science friction</td>\n",
              "      <td>Avatar</td>\n",
              "      <td>0</td>\n",
              "      <td>James Cameron CCH Pounder Joel David Moore Wes...</td>\n",
              "    </tr>\n",
              "    <tr>\n",
              "      <th>1</th>\n",
              "      <td>Gore Verbinski</td>\n",
              "      <td>Johnny Depp</td>\n",
              "      <td>Orlando Bloom</td>\n",
              "      <td>Jack Davenport</td>\n",
              "      <td>Action Adventure Fantasy</td>\n",
              "      <td>Pirates of the Caribbean: At World's End</td>\n",
              "      <td>1</td>\n",
              "      <td>Gore Verbinski Johnny Depp Orlando Bloom Jack ...</td>\n",
              "    </tr>\n",
              "    <tr>\n",
              "      <th>2</th>\n",
              "      <td>Sam Mendes</td>\n",
              "      <td>Christoph Waltz</td>\n",
              "      <td>Rory Kinnear</td>\n",
              "      <td>Stephanie Sigman</td>\n",
              "      <td>Action Adventure Thriller</td>\n",
              "      <td>Spectre</td>\n",
              "      <td>2</td>\n",
              "      <td>Sam Mendes Christoph Waltz Rory Kinnear Stepha...</td>\n",
              "    </tr>\n",
              "    <tr>\n",
              "      <th>3</th>\n",
              "      <td>Christopher Nolan</td>\n",
              "      <td>Tom Hardy</td>\n",
              "      <td>Christian Bale</td>\n",
              "      <td>Joseph Gordon Levitt</td>\n",
              "      <td>Action Thriller</td>\n",
              "      <td>The Dark Knight Rises</td>\n",
              "      <td>3</td>\n",
              "      <td>Christopher Nolan Tom Hardy Christian Bale Jos...</td>\n",
              "    </tr>\n",
              "    <tr>\n",
              "      <th>5</th>\n",
              "      <td>Andrew Stanton</td>\n",
              "      <td>Daryl Sabara</td>\n",
              "      <td>Samantha Morton</td>\n",
              "      <td>Polly Walker</td>\n",
              "      <td>Action Adventure science friction</td>\n",
              "      <td>John Carter</td>\n",
              "      <td>4</td>\n",
              "      <td>Andrew Stanton Daryl Sabara Samantha Morton Po...</td>\n",
              "    </tr>\n",
              "  </tbody>\n",
              "</table>\n",
              "</div>"
            ],
            "text/plain": [
              "       director_name  ...                                  combined_features\n",
              "0      James Cameron  ...  James Cameron CCH Pounder Joel David Moore Wes...\n",
              "1     Gore Verbinski  ...  Gore Verbinski Johnny Depp Orlando Bloom Jack ...\n",
              "2         Sam Mendes  ...  Sam Mendes Christoph Waltz Rory Kinnear Stepha...\n",
              "3  Christopher Nolan  ...  Christopher Nolan Tom Hardy Christian Bale Jos...\n",
              "5     Andrew Stanton  ...  Andrew Stanton Daryl Sabara Samantha Morton Po...\n",
              "\n",
              "[5 rows x 8 columns]"
            ]
          },
          "metadata": {
            "tags": []
          },
          "execution_count": 139
        }
      ]
    },
    {
      "cell_type": "code",
      "metadata": {
        "colab": {
          "base_uri": "https://localhost:8080/",
          "height": 287
        },
        "id": "KBaWYgiza60T",
        "outputId": "70294d77-bba1-41ac-f417-f64fabe8944c"
      },
      "source": [
        "df['movie_title'] = df['movie_title'].str.strip()\n",
        "df.head()"
      ],
      "execution_count": 140,
      "outputs": [
        {
          "output_type": "execute_result",
          "data": {
            "text/html": [
              "<div>\n",
              "<style scoped>\n",
              "    .dataframe tbody tr th:only-of-type {\n",
              "        vertical-align: middle;\n",
              "    }\n",
              "\n",
              "    .dataframe tbody tr th {\n",
              "        vertical-align: top;\n",
              "    }\n",
              "\n",
              "    .dataframe thead th {\n",
              "        text-align: right;\n",
              "    }\n",
              "</style>\n",
              "<table border=\"1\" class=\"dataframe\">\n",
              "  <thead>\n",
              "    <tr style=\"text-align: right;\">\n",
              "      <th></th>\n",
              "      <th>director_name</th>\n",
              "      <th>actor_1_name</th>\n",
              "      <th>actor_2_name</th>\n",
              "      <th>actor_3_name</th>\n",
              "      <th>genres</th>\n",
              "      <th>movie_title</th>\n",
              "      <th>index</th>\n",
              "      <th>combined_features</th>\n",
              "    </tr>\n",
              "  </thead>\n",
              "  <tbody>\n",
              "    <tr>\n",
              "      <th>0</th>\n",
              "      <td>James Cameron</td>\n",
              "      <td>CCH Pounder</td>\n",
              "      <td>Joel David Moore</td>\n",
              "      <td>Wes Studi</td>\n",
              "      <td>Action Adventure Fantasy science friction</td>\n",
              "      <td>Avatar</td>\n",
              "      <td>0</td>\n",
              "      <td>James Cameron CCH Pounder Joel David Moore Wes...</td>\n",
              "    </tr>\n",
              "    <tr>\n",
              "      <th>1</th>\n",
              "      <td>Gore Verbinski</td>\n",
              "      <td>Johnny Depp</td>\n",
              "      <td>Orlando Bloom</td>\n",
              "      <td>Jack Davenport</td>\n",
              "      <td>Action Adventure Fantasy</td>\n",
              "      <td>Pirates of the Caribbean: At World's End</td>\n",
              "      <td>1</td>\n",
              "      <td>Gore Verbinski Johnny Depp Orlando Bloom Jack ...</td>\n",
              "    </tr>\n",
              "    <tr>\n",
              "      <th>2</th>\n",
              "      <td>Sam Mendes</td>\n",
              "      <td>Christoph Waltz</td>\n",
              "      <td>Rory Kinnear</td>\n",
              "      <td>Stephanie Sigman</td>\n",
              "      <td>Action Adventure Thriller</td>\n",
              "      <td>Spectre</td>\n",
              "      <td>2</td>\n",
              "      <td>Sam Mendes Christoph Waltz Rory Kinnear Stepha...</td>\n",
              "    </tr>\n",
              "    <tr>\n",
              "      <th>3</th>\n",
              "      <td>Christopher Nolan</td>\n",
              "      <td>Tom Hardy</td>\n",
              "      <td>Christian Bale</td>\n",
              "      <td>Joseph Gordon Levitt</td>\n",
              "      <td>Action Thriller</td>\n",
              "      <td>The Dark Knight Rises</td>\n",
              "      <td>3</td>\n",
              "      <td>Christopher Nolan Tom Hardy Christian Bale Jos...</td>\n",
              "    </tr>\n",
              "    <tr>\n",
              "      <th>5</th>\n",
              "      <td>Andrew Stanton</td>\n",
              "      <td>Daryl Sabara</td>\n",
              "      <td>Samantha Morton</td>\n",
              "      <td>Polly Walker</td>\n",
              "      <td>Action Adventure science friction</td>\n",
              "      <td>John Carter</td>\n",
              "      <td>4</td>\n",
              "      <td>Andrew Stanton Daryl Sabara Samantha Morton Po...</td>\n",
              "    </tr>\n",
              "  </tbody>\n",
              "</table>\n",
              "</div>"
            ],
            "text/plain": [
              "       director_name  ...                                  combined_features\n",
              "0      James Cameron  ...  James Cameron CCH Pounder Joel David Moore Wes...\n",
              "1     Gore Verbinski  ...  Gore Verbinski Johnny Depp Orlando Bloom Jack ...\n",
              "2         Sam Mendes  ...  Sam Mendes Christoph Waltz Rory Kinnear Stepha...\n",
              "3  Christopher Nolan  ...  Christopher Nolan Tom Hardy Christian Bale Jos...\n",
              "5     Andrew Stanton  ...  Andrew Stanton Daryl Sabara Samantha Morton Po...\n",
              "\n",
              "[5 rows x 8 columns]"
            ]
          },
          "metadata": {
            "tags": []
          },
          "execution_count": 140
        }
      ]
    },
    {
      "cell_type": "markdown",
      "metadata": {
        "id": "9-dCkoIQdR-x"
      },
      "source": [
        "Finding the index of the movie"
      ]
    },
    {
      "cell_type": "code",
      "metadata": {
        "id": "C3dIuJlTNq1k"
      },
      "source": [
        "movie_user_likes = \"Spectre\"\n",
        "\n",
        "def get_index_from_title(title):\n",
        "    return df[df['movie_title'] == title][\"index\"].values[0]\n",
        "\n",
        "movie_index = get_index_from_title(movie_user_likes)"
      ],
      "execution_count": 141,
      "outputs": []
    },
    {
      "cell_type": "code",
      "metadata": {
        "colab": {
          "base_uri": "https://localhost:8080/"
        },
        "id": "I3O9DLkjN0zz",
        "outputId": "7e0a9cfc-ca77-4743-bdd9-8d8912766378"
      },
      "source": [
        "movie_index"
      ],
      "execution_count": 142,
      "outputs": [
        {
          "output_type": "execute_result",
          "data": {
            "text/plain": [
              "2"
            ]
          },
          "metadata": {
            "tags": []
          },
          "execution_count": 142
        }
      ]
    },
    {
      "cell_type": "code",
      "metadata": {
        "id": "0zpBRym2PN-m"
      },
      "source": [
        "similar_movies = list(enumerate(cosine_sim[movie_index]))"
      ],
      "execution_count": 143,
      "outputs": []
    },
    {
      "cell_type": "code",
      "metadata": {
        "id": "Ed4x_cX5ch33"
      },
      "source": [
        "sorted_similar_movies = sorted(similar_movies, key=lambda x:x[1], reverse=True)"
      ],
      "execution_count": 144,
      "outputs": []
    },
    {
      "cell_type": "markdown",
      "metadata": {
        "id": "ax8qCBcHdX02"
      },
      "source": [
        "## Similar Movies"
      ]
    },
    {
      "cell_type": "code",
      "metadata": {
        "colab": {
          "base_uri": "https://localhost:8080/"
        },
        "id": "YxFBkjr7cloS",
        "outputId": "2dcc8490-50ed-4991-c5f2-d4f44341f0a2"
      },
      "source": [
        "def get_title_from_index(index):\n",
        "    return df[df.index == index][\"movie_title\"].values[0]\n",
        "i=0\n",
        "for movie in sorted_similar_movies:\n",
        "    print(get_title_from_index(movie[0]))\n",
        "    i=i+1\n",
        "    if i>15:\n",
        "        break"
      ],
      "execution_count": 145,
      "outputs": [
        {
          "output_type": "stream",
          "text": [
            "Spectre\n",
            "Jurassic World\n",
            "Aloft\n",
            "Superman Returns\n",
            "Gods of Egypt\n",
            "Jupiter Ascending\n",
            "The Wolfman\n",
            "The Aviator\n",
            "The Majestic\n",
            "The Matrix\n",
            "John Carter\n",
            "The Manchurian Candidate\n",
            "Snake Eyes\n",
            "Cars\n",
            "Captain Phillips\n",
            "The Ant Bully\n"
          ],
          "name": "stdout"
        }
      ]
    },
    {
      "cell_type": "code",
      "metadata": {
        "id": "oon0x8k9cpqt"
      },
      "source": [
        ""
      ],
      "execution_count": 145,
      "outputs": []
    }
  ]
}